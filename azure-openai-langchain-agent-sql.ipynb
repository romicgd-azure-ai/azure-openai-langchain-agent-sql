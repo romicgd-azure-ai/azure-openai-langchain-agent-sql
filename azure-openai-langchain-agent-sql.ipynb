{
 "cells": [
  {
   "cell_type": "markdown",
   "metadata": {},
   "source": [
    "# Azure OpenAI with lanchain SQLAgents\n",
    "This code demonstrates how to use langchain SQL Agents with Azure OpenAI to produce structured output."
   ]
  },
  {
   "cell_type": "code",
   "execution_count": null,
   "metadata": {},
   "outputs": [],
   "source": [
    "! pip install pymssql --Uq\n",
    "! pip install openai --Uq\n",
    "! pip install python-dotenv --Uq\n",
    "! pip install langchain --Uq\n",
    "! pip install openai[datalib] --upgrade"
   ]
  },
  {
   "attachments": {},
   "cell_type": "markdown",
   "metadata": {},
   "source": [
    "## Import required libraries and environment variables"
   ]
  },
  {
   "cell_type": "code",
   "execution_count": null,
   "metadata": {},
   "outputs": [],
   "source": [
    "# Import required libraries  \n",
    "import os  \n",
    "import openai  \n",
    "from dotenv import load_dotenv  \n",
    "\n",
    "# Configure environment variables  \n",
    "load_dotenv(override=True)  \n",
    "# OpenAI init\n",
    "openai.api_type = \"azure\"  \n",
    "openai.api_version = os.getenv(\"OPENAI_API_VERSION\")  \n",
    "sql_user_name = os.getenv(\"SQL_USER_NAME\")  \n",
    "sql_user_password = os.getenv(\"SQL_USER_PASSWORD\")  \n",
    "sql_server_name = os.getenv(\"SQL_SERVER_NAME\")  \n",
    "sql_db_name = os.getenv(\"SQL_DB_NAME\")  \n",
    "\n"
   ]
  },
  {
   "attachments": {},
   "cell_type": "markdown",
   "metadata": {},
   "source": [
    "# Azure SQL Database\n",
    "Query all applications deployments from Azure SQL Database and summarize by cloud type.\n",
    ":warning: lanchain will try read metadata from all tables that user has access to. This will be very slow i.e. several minutes on any reasonable database.\n",
    "for reasonable perfomance please make sure that database user has access only to tables that are required for the analysis.\n",
    "\n",
    "Warning! as of today langchain does not seem always properly use TOP vs LIMIT for Microsoft SQL dialect. TBD to figure out how ensure it does.\n"
   ]
  },
  {
   "cell_type": "code",
   "execution_count": null,
   "metadata": {},
   "outputs": [],
   "source": [
    "from langchain.agents import create_sql_agent\n",
    "from langchain.agents.agent_toolkits import SQLDatabaseToolkit\n",
    "from langchain.sql_database import SQLDatabase\n",
    "from langchain.agents import AgentExecutor\n",
    "from langchain.agents.agent_types import AgentType\n",
    "from langchain.chat_models import AzureChatOpenAI\n",
    "\n",
    "from langchain.output_parsers import PydanticOutputParser\n",
    "# To parse outputs and get structured data back\n",
    "from pydantic import BaseModel, Field\n",
    "from typing import List\n",
    "\n",
    "openai.api_base = os.getenv(\"OPENAI_API_BASE\")\n",
    "openai.api_key = os.getenv(\"OPENAI_API_KEY\")  \n",
    "llm=AzureChatOpenAI(deployment_name=\"gpt-35-turbo-16k\", openai_api_base= openai.api_base, openai_api_key=openai.api_key, temperature=0)\n",
    "\n",
    "db = SQLDatabase.from_uri(f\"mssql+pymssql://{sql_user_name}:{sql_user_password}@{sql_server_name}:1433/{sql_db_name}\", view_support=True)\n",
    "toolkit = SQLDatabaseToolkit(db=db, llm=llm)\n",
    "\n",
    "agent_executor = create_sql_agent(\n",
    "    llm=llm,\n",
    "    toolkit=toolkit,\n",
    "    verbose=True,\n",
    "    agent_type=AgentType.ZERO_SHOT_REACT_DESCRIPTION,\n",
    "    max_iterations=10,\n",
    "    verbose_iterations=True,\n",
    "    use_query_checker=True, \n",
    "    return_intermediate_steps=True,\n",
    ")\n",
    "\n",
    "class CloudDeploymentsStat(BaseModel):\n",
    "    cloudName: str = Field(description=\"Cloud for solution deployment.\")\n",
    "    deploymentsCount: str = Field(description=\"Number of deployments.\")\n",
    "    \n",
    "class CloudDeploymentsStatList(BaseModel):\n",
    "    items: List[CloudDeploymentsStat]\n",
    "\n",
    "parser = PydanticOutputParser(pydantic_object=CloudDeploymentsStatList)\n",
    "print(parser.get_format_instructions())\n",
    "\n",
    "response=agent_executor.run(\"calculate number of deployments we have for each cloud ? Do not limit number of rows, when cloud is 'None' return cloud type as 'Not cloud'. \"+parser.get_format_instructions())\n",
    " \n",
    "print(response)\n",
    "print(parser.parse(response))\n",
    "\n",
    "\n",
    "\n"
   ]
  }
 ],
 "metadata": {
  "kernelspec": {
   "display_name": "Python 3",
   "language": "python",
   "name": "python3"
  },
  "language_info": {
   "codemirror_mode": {
    "name": "ipython",
    "version": 3
   },
   "file_extension": ".py",
   "mimetype": "text/x-python",
   "name": "python",
   "nbconvert_exporter": "python",
   "pygments_lexer": "ipython3",
   "version": "3.11.4"
  },
  "orig_nbformat": 4
 },
 "nbformat": 4,
 "nbformat_minor": 2
}
